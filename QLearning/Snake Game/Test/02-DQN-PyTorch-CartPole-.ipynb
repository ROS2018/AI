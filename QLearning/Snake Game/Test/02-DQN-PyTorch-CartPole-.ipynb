{
 "cells": [
  {
   "cell_type": "markdown",
   "id": "earned-electricity",
   "metadata": {},
   "source": [
    "## See DeepLizard:\n",
    "    https://deeplizard.com/learn/video/jkdXDinWfo8"
   ]
  },
  {
   "cell_type": "markdown",
   "id": "typical-alaska",
   "metadata": {},
   "source": [
    "# The alogrithme of DQN:\n",
    "\n",
    "1. Initialize replay memory capacity.\n",
    "2. Initialize the policy network with random weights.\n",
    "3. Clone the policy network, and call it the target network.\n",
    "4. For each episode\n",
    "    1. Initialize the starting state.\n",
    "    2. For each time step : \n",
    "        1. Select an action :\n",
    "            - Via exploration or exploitation\n",
    "        2. Execute selected action in an emulator.\n",
    "        3. Observe reward and next state.\n",
    "        4. Store experience in replay memory.\n",
    "        5. Sample random batch from replay memory.\n",
    "        6. Preprocess states from batch.\n",
    "        7. Pass batch of preprocessed states to policy network.\n",
    "        8. Calculate loss between output Q-values and target Q-values.\n",
    "        9. Requires a pass to the target network for the next state\n",
    "        10. Gradient descent updates weights in the policy network to minimize loss.\n",
    "        11. After  time steps, weights in the target network are updated to the weights in the policy network."
   ]
  },
  {
   "cell_type": "markdown",
   "id": "hairy-waterproof",
   "metadata": {},
   "source": [
    "# 1) Import:"
   ]
  },
  {
   "cell_type": "code",
   "execution_count": 3,
   "id": "patient-start",
   "metadata": {},
   "outputs": [
    {
     "name": "stdout",
     "output_type": "stream",
     "text": [
      "from IPython, display is imported\n",
      "Imported ...\n"
     ]
    }
   ],
   "source": [
    "%matplotlib inline\n",
    "import gym\n",
    "import math\n",
    "import random\n",
    "import numpy as np\n",
    "import matplotlib\n",
    "import matplotlib.pyplot as plt  #--------\n",
    "from collections import namedtuple  #--------\n",
    "from itertools import count #--------\n",
    "from PIL import Image #--------\n",
    "import torch\n",
    "import torch.nn as nn\n",
    "import torch.optim as optim\n",
    "import torch.nn.functional as F\n",
    "import torchvision.transforms as T  \n",
    "from torchsummary import summary\n",
    "\n",
    "\n",
    "import time\n",
    "#from IPython.display import clear_output\n",
    "is_ipython = 'inline' in matplotlib.get_backend()\n",
    "if is_ipython: \n",
    "    from IPython import display\n",
    "    print('from IPython, display is imported')\n",
    "    \n",
    "    \n",
    "print('Imported ...')\n"
   ]
  },
  {
   "cell_type": "markdown",
   "id": "liberal-burden",
   "metadata": {},
   "source": [
    "# 2) Define Some Classes:\n",
    "## 2.1 Define the DQN class:"
   ]
  },
  {
   "cell_type": "code",
   "execution_count": 14,
   "id": "innocent-quilt",
   "metadata": {},
   "outputs": [
    {
     "name": "stdout",
     "output_type": "stream",
     "text": [
      "finished ...\n"
     ]
    }
   ],
   "source": [
    "class DQN(nn.Module):\n",
    "    def __init__(self, img_height, img_width) :\n",
    "        super().__init__()\n",
    "        \n",
    "        self.l1 = nn.Linear(in_features = img_height*img_width*3, out_features = 24)\n",
    "        self.l2 = nn.Linear(in_features =24, out_features = 32)\n",
    "        self.out= nn.Linear(in_features = 32, out_features = 2)\n",
    "    \n",
    "    def forward(self,t):\n",
    "        t = t.flatten(start_dim = 1)\n",
    "        t = F.relu(self.l1(t))\n",
    "        t = F.relu(self.l2(t))\n",
    "        t = self.out(t)\n",
    "        \n",
    "        return t\n",
    "\n",
    "class DQN2(nn.Module):\n",
    "  def __init__(self,h,w):\n",
    "    super(DQN, self).__init__()\n",
    "    self.conv1 = nn.Conv2d(in_channels=3, out_channels=6, kernel_size = 5)\n",
    "    # o = (28-5+2*0)/1 + 1 = 24 # Conv2\n",
    "    # o =(24-2+2*0)/2+1 = 12 # MaxPooling\n",
    "\n",
    "    self.oh = (h-5+2*0)/1 + 1 # # Conv2\n",
    "    self.oh =(self.oh-2+2*0)/2+1 #= 12 # MaxPooling\n",
    "    self.ow = (w-5+2*0)/1 + 1 # # Conv2\n",
    "    self.ow =(self.ow-2+2*0)/2+1 #= 12 # MaxPooling\n",
    "    self.conv2 = nn.Conv2d(in_channels= 6, out_channels= 12, kernel_size= 5)\n",
    "    # o =(12 - 5 +0*2)/1 + 1 = 8 # Conv2\n",
    "    # o = (8 - 2 +0)/2 +1 = 4\n",
    "    self.oh = (self.oh-5+2*0)/1 + 1 # # Conv2\n",
    "    self.oh = int( (self.oh-2+2*0)/2+1 ) #= 12 # MaxPooling\n",
    "    self.ow = (self.ow-5+2*0)/1 + 1 # # Conv2\n",
    "    self.ow =int( (self.ow-2+2*0)/2+1 ) #= 12 # MaxPooling\n",
    "\n",
    "    print(self.oh, self.ow)\n",
    "\n",
    "    self.fc1 = nn.Linear(in_features= 12*self.oh*self.ow, out_features= 120)\n",
    "    self.fc2 = nn.Linear(in_features= 120, out_features= 60)\n",
    "    self.out = nn.Linear(in_features = 60, out_features=2)\n",
    "    #Note: Dense, Fully Connected, Linear refer to the same type of layer\n",
    "\n",
    "  def forward(self,t):\n",
    "    #t = self.layer(t)\n",
    "\n",
    "    # 1 input layer:\n",
    "    t = t\n",
    "\n",
    "    # 2 hidden conv layer\n",
    "    t = self.conv1(t)\n",
    "    t = F.relu(t)\n",
    "    t = F.max_pool2d(t, kernel_size = 2, stride = 2)\n",
    "\n",
    "    # 3 hidden conv layer\n",
    "    t = self.conv2(t)\n",
    "    t = F.relu(t)\n",
    "    t = F.max_pool2d(t,kernel_size = 2, stride = 2 )\n",
    "\n",
    "    # flatten the layer:\n",
    "    t = t.reshape(-1 , 12*self.oh*self.ow)\n",
    "\n",
    "    # 4 hidden fc layer\n",
    "    t = self.fc1(t)\n",
    "    t = F.relu(t)\n",
    "\n",
    "    #5 hidden fc layer:\n",
    "    t = self.fc2(t)\n",
    "    t = F.relu(t)\n",
    "\n",
    "    #6 hidden out layer:\n",
    "    out = self.out(t)\n",
    "    out = F.softmax(out)\n",
    "    return  out\n",
    "\n",
    "model = DQN(28,28)#.cuda\n",
    "\n",
    "print('finished ...')  "
   ]
  },
  {
   "cell_type": "markdown",
   "id": "sharing-unemployment",
   "metadata": {},
   "source": [
    "## 2.2 Define the experience tuple:"
   ]
  },
  {
   "cell_type": "code",
   "execution_count": 20,
   "id": "quick-bench",
   "metadata": {},
   "outputs": [
    {
     "name": "stdout",
     "output_type": "stream",
     "text": [
      "1\n"
     ]
    },
    {
     "data": {
      "text/plain": [
       "\u001B[0;31mType:\u001B[0m        experience\n",
       "\u001B[0;31mString form:\u001B[0m experience(state=1, action=3, reward=3, next_state=4)\n",
       "\u001B[0;31mLength:\u001B[0m      4\n",
       "\u001B[0;31mDocstring:\u001B[0m   experience(state, action, reward, next_state)\n"
      ]
     },
     "metadata": {},
     "output_type": "display_data"
    }
   ],
   "source": [
    "Experience = namedtuple('experience',  ( 'state','action','reward','next_state') )\n",
    "e = Experience(1,3,3,4)\n",
    "print(e.state)\n",
    "?e"
   ]
  },
  {
   "cell_type": "markdown",
   "id": "unknown-boundary",
   "metadata": {},
   "source": [
    "## 2.3 Replay Memory:\n",
    "Now that we have our Experience class, let's define our ReplayMemory class, which is where these experiences will be stored.\n"
   ]
  },
  {
   "cell_type": "code",
   "execution_count": 21,
   "id": "miniature-crisis",
   "metadata": {},
   "outputs": [
    {
     "name": "stdout",
     "output_type": "stream",
     "text": [
      "finished ...\n"
     ]
    }
   ],
   "source": [
    "class replaymemory():\n",
    "    \n",
    "    # define the memory parameters:\n",
    "    def __init__(self, capacity):\n",
    "        self.capacity = capacity\n",
    "        self.memory = []\n",
    "        self.push_count = 0\n",
    "        \n",
    "    # feeding function\n",
    "    \n",
    "    def push(self, experience):\n",
    "        #if self.push_count < self.capacity:\n",
    "        if len(self.memory) < self.capacity :\n",
    "            self.memory.append(experience)\n",
    "        else :\n",
    "            self.memory[self.push_count % self.capacity] = experience\n",
    "        self.push_count += 1\n",
    "    \n",
    "    # outputting function:\n",
    "    \n",
    "    def sample(self, batch_size):\n",
    "        return random.sample(self.memory, batch_size)\n",
    "    \n",
    "    def can_provide_sample(self, batch_size):\n",
    "        return len(self.memory) >= batch_size \n",
    "    \n",
    "        #print(random.sample(range(10),3))\n",
    "\n",
    "print('finished ...')  "
   ]
  },
  {
   "cell_type": "markdown",
   "id": "familiar-berry",
   "metadata": {},
   "source": [
    "## 2.4 Epsilon Greedy Strategy :"
   ]
  },
  {
   "cell_type": "code",
   "execution_count": 22,
   "id": "following-representation",
   "metadata": {},
   "outputs": [
    {
     "name": "stdout",
     "output_type": "stream",
     "text": [
      "finished ...\n"
     ]
    }
   ],
   "source": [
    "class EpsilonGreedyStrategy():\n",
    "    def __init__(self,start,end,decay):\n",
    "        self.start = start\n",
    "        self.end = end\n",
    "        self.decay = decay \n",
    "        self.history = []\n",
    "    \n",
    "    def get_exploration_rate(self, episode):\n",
    "        rate = self.end + (self.start -self.end )*np.exp(-self.decay*episode)\n",
    "        self.history.append(rate)\n",
    "        return rate\n",
    "\n",
    "print('finished ...')  "
   ]
  },
  {
   "cell_type": "markdown",
   "id": "anticipated-company",
   "metadata": {},
   "source": [
    "## 2.5 Reinforcement Learning Agent Class:"
   ]
  },
  {
   "cell_type": "code",
   "execution_count": 23,
   "id": "enormous-admission",
   "metadata": {},
   "outputs": [
    {
     "name": "stdout",
     "output_type": "stream",
     "text": [
      "finished ...\n"
     ]
    }
   ],
   "source": [
    "class Agent():\n",
    "    def __init__(self, strategy, num_actions, device):\n",
    "        self.num_actions = num_actions\n",
    "        self.strategy = strategy\n",
    "        self.current_steps = 0\n",
    "        self.device = device\n",
    "        \n",
    "    # trade off: exploration vs exploiation\n",
    "    def decide(self, policy_net, state): \n",
    "        rate =  self.strategy.get_exploration_rate(self.current_steps)\n",
    "        self.current_steps += 1 \n",
    "        \n",
    "        if rate > random.random(): # explore\n",
    "            action = random.randrange(self.num_actions)\n",
    "            action = torch.tensor([action]).to(self.device)\n",
    "            decision = 'exploration'\n",
    "            \n",
    "        else : # otherwise eploite:\n",
    "            with torch.no_grad(): \n",
    "                action = policy_net(state).argmax(dim=1).to(self.device) #policy_net(self.state).argmax(dim=1).item()\n",
    "            decision = 'exploitation'\n",
    "                \n",
    "        return action, decision\n",
    "    \n",
    "print('finished ...')  "
   ]
  },
  {
   "cell_type": "markdown",
   "id": "bearing-syracuse",
   "metadata": {},
   "source": [
    "## 2.6 Environement Manager:"
   ]
  },
  {
   "cell_type": "code",
   "execution_count": 24,
   "id": "outer-amazon",
   "metadata": {},
   "outputs": [
    {
     "name": "stdout",
     "output_type": "stream",
     "text": [
      "finished ...\n"
     ]
    }
   ],
   "source": [
    "class CartPolEnvManager():\n",
    "    def __init__(self, device):\n",
    "        self.device = device\n",
    "        self.env = gym.make(\"CartPole-v0\").unwrapped\n",
    "        self.env.reset()\n",
    "        self.done =  False\n",
    "        self.current_screen = None\n",
    "    \n",
    "    # wrapped functions ---------------------\n",
    "    def close(self):\n",
    "        self.env.close()\n",
    "        \n",
    "    def render(self, mode='human'):\n",
    "        return self.env.render(mode)\n",
    "    \n",
    "    def reset(self):\n",
    "        self.env.reset()\n",
    "        self.current_screen = None\n",
    "       # ----  \n",
    "   \n",
    "    # number of actions ----------------------------\n",
    "    def num_actions(self):\n",
    "        return self.env.action_space.n\n",
    "    \n",
    "    # Execute an action :\n",
    "    def step(self,action):\n",
    "        _ ,reward, self.done, _ = self.env.step(action.item())\n",
    "        return torch.tensor([reward],device = self.device)\n",
    "        \n",
    "    # strating an episode:----------------------------\n",
    "    def just_starting(self):\n",
    "        return self.current_screen is None\n",
    "    \n",
    "    # Getting the state of the env:-----------------\n",
    "    def get_state(self): # he point of this function is to return the current state of the environment in the form of a processed image of the screen      \n",
    "        if self.just_starting() or self.done :\n",
    "            self.current_screen = self.get_processed_screen()\n",
    "            return torch.zeros_like(self.current_screen) # black image\n",
    "        else:\n",
    "            s1 = self.current_screen\n",
    "            s2 = self.get_processed_screen()\n",
    "            velocity_screen =  (s2 - s1) \n",
    "            self.current_screen = s2\n",
    "            return velocity_screen\n",
    "        \n",
    "    # Get Processed Image Dimensions:---------------------\n",
    "    def get_screen_height(self):\n",
    "        screen = self.get_processed_screen()\n",
    "        #self.close()\n",
    "        return screen.shape[2]\n",
    "    \n",
    "    def get_screen_width(self):\n",
    "        screen = self.get_processed_screen()\n",
    "        #self.close()\n",
    "        return screen.shape[3]      \n",
    "    \n",
    "    # Processing the Image:**************************************\n",
    "    def get_processed_screen(self):\n",
    "        screen = self.render('rgb_array').transpose((2,0,1)) # Pytotch DQN experct C H W\n",
    "        screen = self.crop_screen(screen)\n",
    "        return self.transform_screen_data(screen)\n",
    "    \n",
    "    # crop screen:\n",
    "    def crop_screen(self, screen):\n",
    "        h = screen.shape[1]\n",
    "        \n",
    "        top = int(h*0.4)\n",
    "        bottom = int(h*0.8)\n",
    "        \n",
    "        return screen[:,top:bottom,:]\n",
    "    \n",
    "    # Convert and rescale the screen shot:\n",
    "    def transform_screen_data(self, screen):\n",
    "        screen = np.ascontiguousarray(screen, dtype = np.float32 )/255\n",
    "        screen = torch.from_numpy(screen)\n",
    "        \n",
    "        # Use torchvision package to compose image transforms\n",
    "        resize = T.Compose( [ \n",
    "            T.ToPILImage(),\n",
    "            T.Resize((40,90)), \n",
    "            T.ToTensor() \n",
    "        ] )\n",
    "        return resize(screen).unsqueeze(0).to(self.device)\n",
    "\n",
    "print('finished ...')"
   ]
  },
  {
   "cell_type": "markdown",
   "id": "orange-jordan",
   "metadata": {},
   "source": [
    "### 2.7 Test processed image:"
   ]
  },
  {
   "cell_type": "code",
   "execution_count": 25,
   "id": "armed-boating",
   "metadata": {},
   "outputs": [
    {
     "data": {
      "image/png": "[encoded data removed]",
      "text/plain": [
       "<Figure size 1440x432 with 3 Axes>"
      ]
     },
     "metadata": {
      "needs_background": "light"
     },
     "output_type": "display_data"
    },
    {
     "data": {
      "image/png": "[encoded data removed]",
      "text/plain": [
       "<Figure size 1440x432 with 3 Axes>"
      ]
     },
     "metadata": {
      "needs_background": "light"
     },
     "output_type": "display_data"
    },
    {
     "name": "stdout",
     "output_type": "stream",
     "text": [
      "finished ...\n"
     ]
    }
   ],
   "source": [
    "def show_state(episode, step, em):\n",
    "        \n",
    "   # reward  = em.step(1)\n",
    "    #print('step: ', step, ' |  reward: ', reward.item() , '  |  end or start : ', em.just_starting() or em.done)\n",
    "    fig, [ax1, ax2, ax3 ] = plt.subplots(1, 3, figsize=(20, 6))\n",
    "\n",
    "    screen = em.current_screen\n",
    "    ax1.imshow(screen.squeeze(0).permute(1, 2, 0).cpu())\n",
    "    ax1.set_title('current_screen')\n",
    "\n",
    "\n",
    "    screen = em.get_processed_screen()\n",
    "    ax2.imshow(screen.squeeze(0).permute(1, 2, 0).cpu())\n",
    "    ax2.set_title('next_screen')\n",
    "\n",
    "    screen = em.get_state()\n",
    "    ax3.imshow(screen.squeeze(0).permute(1, 2, 0).cpu()+0.5)\n",
    "    ax3.set_title('velocity screen')\n",
    "    plt.show()\n",
    "    \n",
    "    plt.pause(.01)\n",
    "\n",
    "#####################\n",
    "device = torch.device(\"cuda\" if torch.cuda.is_available() else \"cpu\")\n",
    "em =  CartPolEnvManager(device)\n",
    "em.reset()\n",
    "\n",
    "em.render('rgb_array')\n",
    "em.get_state()\n",
    "\n",
    "for i in range(2):\n",
    "    \n",
    "    #em.step({0})\n",
    "    show_state(1, i, em)\n",
    "    \n",
    "    if em.done == True :\n",
    "        em.reset()\n",
    "        em.get_state()\n",
    "\n",
    "    #plt.pause(.01)\n",
    "    #if is_ipython: display.clear_output(wait=True)\n",
    "        \n",
    "em.close()\n",
    "\n",
    "\n",
    "\n",
    "\n",
    "print('finished ...')"
   ]
  },
  {
   "cell_type": "code",
   "execution_count": 26,
   "id": "higher-alpha",
   "metadata": {},
   "outputs": [],
   "source": [
    "em.close()"
   ]
  },
  {
   "cell_type": "markdown",
   "id": "future-taxation",
   "metadata": {},
   "source": [
    "# 3) Define some functions:\n",
    "## 3.1 Tensor exrators"
   ]
  },
  {
   "cell_type": "code",
   "execution_count": 27,
   "id": "gentle-shadow",
   "metadata": {},
   "outputs": [],
   "source": [
    "def extract_tensors(experiences):\n",
    "    # Convert batch of Experiences to Experience of batches\n",
    "    batch = Experience(*zip(*experiences))\n",
    "    \n",
    "#     print('batch.action', batch.action)\n",
    "#     print('batch.next_state', batch.next_state)\n",
    "#     print('batch.reward', batch.reward)\n",
    "\n",
    "    t1 = torch.cat(batch.state)\n",
    "    t2 = torch.cat(batch.action)\n",
    "    t3 = torch.cat(batch.reward)\n",
    "    t4 = torch.cat(batch.next_state)\n",
    "\n",
    "    return (t1,t2,t3,t4)"
   ]
  },
  {
   "cell_type": "markdown",
   "id": "future-double",
   "metadata": {},
   "source": [
    "## 3.2 QValues class"
   ]
  },
  {
   "cell_type": "code",
   "execution_count": 28,
   "id": "regular-procurement",
   "metadata": {},
   "outputs": [],
   "source": [
    "class QValues():\n",
    "    device = torch.device(\"cuda\" if torch.cuda.is_available() else \"cpu\")\n",
    "    \n",
    "    @staticmethod\n",
    "    def get_current_qvalues(policy_net, states, actions):\n",
    "        return policy_net(states).gather(dim=1, index=actions.unsqueeze(-1))\n",
    "\n",
    "    @staticmethod        \n",
    "    def get_next_qvalues(target_net, next_states):                \n",
    "        final_state_locations = next_states.flatten(start_dim=1) \\\n",
    "            .max(dim=1)[0].eq(0).type(torch.bool)\n",
    "        non_final_state_locations = (final_state_locations == False)\n",
    "        non_final_states = next_states[non_final_state_locations]\n",
    "        batch_size = next_states.shape[0]\n",
    "        values = torch.zeros(batch_size).to(QValues.device)\n",
    "        values[non_final_state_locations] = target_net(non_final_states).max(dim=1)[0].detach()\n",
    "        return values    \n",
    "    "
   ]
  },
  {
   "cell_type": "markdown",
   "id": "geological-radius",
   "metadata": {},
   "source": [
    "## 3.3 PLOT function:"
   ]
  },
  {
   "cell_type": "code",
   "execution_count": 29,
   "id": "asian-transcription",
   "metadata": {},
   "outputs": [],
   "source": [
    "def get_moving_average(period, values):\n",
    "    values = torch.tensor(values, dtype=torch.float)\n",
    "    if len(values) >= period:\n",
    "        moving_avg = values.unfold(dimension=0, size=period, step=1) \\\n",
    "            .mean(dim=1).flatten(start_dim=0)\n",
    "        moving_avg = torch.cat((torch.zeros(period-1), moving_avg))\n",
    "        return moving_avg.numpy()\n",
    "    else:\n",
    "        moving_avg = torch.zeros(len(values))\n",
    "        return moving_avg.numpy()\n",
    "\n",
    "\n",
    "def plot(values, moving_avg_period):\n",
    "    plt.figure(2)\n",
    "    plt.clf()        \n",
    "    plt.title('Training...')\n",
    "    plt.xlabel('Episode')\n",
    "    plt.ylabel('Duration')\n",
    "    plt.plot(values)\n",
    "\n",
    "    moving_avg = get_moving_average(moving_avg_period, values)\n",
    "    plt.plot(moving_avg)    \n",
    "    plt.pause(0.001)\n",
    "    print(\"Episode\", len(values), \"\\n\", \\\n",
    "        moving_avg_period, \"episode moving avg:\", moving_avg[-1])\n",
    "    if is_ipython: display.clear_output(wait=True)"
   ]
  },
  {
   "cell_type": "markdown",
   "id": "through-destiny",
   "metadata": {},
   "source": [
    "## 3.4 Progression function:"
   ]
  },
  {
   "cell_type": "code",
   "execution_count": 30,
   "id": "trained-maximum",
   "metadata": {},
   "outputs": [],
   "source": [
    "# Progress bar function:\n",
    "def update_progress(what,i,imax, redraw=False):\n",
    "    \"\"\"\n",
    "    Display a text progress bar, as :\n",
    "    My progress bar : ############# 34%\n",
    "    args:\n",
    "        what  : Progress bas name\n",
    "        i     : Current progress\n",
    "        imax  : Max val\n",
    "        \n",
    "        #\n",
    "        ue for i\n",
    "    return:\n",
    "        nothing\n",
    "    \"\"\"\n",
    "    bar_length = min(40,imax)\n",
    "    if (i%int(imax/bar_length))!=0 and i<imax and not redraw:\n",
    "        return\n",
    "    progress  = float(i/imax)\n",
    "    block     = int(round(bar_length * progress))\n",
    "    endofline = '\\r' if progress<1 else '\\n'\n",
    "    text = \"{:16s} [{}] {:>5.1f}% of {}\".format( what, \"#\"*block+\"-\"*(bar_length-block), progress*100, imax)\n",
    "    print(text, end=endofline)"
   ]
  },
  {
   "cell_type": "markdown",
   "id": "greek-twist",
   "metadata": {},
   "source": [
    "# 3) Main Program"
   ]
  },
  {
   "cell_type": "markdown",
   "id": "accompanied-pittsburgh",
   "metadata": {},
   "source": [
    "## 3.1 hyperparameters:"
   ]
  },
  {
   "cell_type": "code",
   "execution_count": 31,
   "id": "human-joseph",
   "metadata": {},
   "outputs": [
    {
     "name": "stdout",
     "output_type": "stream",
     "text": [
      "finished ...\n"
     ]
    }
   ],
   "source": [
    "batch_size = 256\n",
    "gamma = 0.9 # it is the 0.999 that made me crazy :P \n",
    "eps_start = 1\n",
    "eps_end = 0.01\n",
    "eps_decay = 0.001\n",
    "target_update = 10\n",
    "memory_size = 100000\n",
    "net_learning_rate = 0.001\n",
    "num_episodes = 1000\n",
    "\n",
    "print('finished ...')"
   ]
  },
  {
   "cell_type": "markdown",
   "id": "occupied-emphasis",
   "metadata": {},
   "source": [
    "## 3.2 Essentiel Objects :"
   ]
  },
  {
   "cell_type": "code",
   "execution_count": 32,
   "id": "integrated-advisory",
   "metadata": {},
   "outputs": [
    {
     "name": "stdout",
     "output_type": "stream",
     "text": [
      ">>> finished ...\n"
     ]
    }
   ],
   "source": [
    "# setup the device :\n",
    "device = torch.device(\"cuda\" if torch.cuda.is_available() else \"cpu\")\n",
    "\n",
    "# the environement manager:\n",
    "em = CartPolEnvManager(device)\n",
    "\n",
    "# strategy (exploration rate updater)\n",
    "strategy = EpsilonGreedyStrategy(eps_start, eps_end, eps_decay)\n",
    "\n",
    "# Agent:\n",
    "agent = Agent(strategy, em.num_actions(), device)\n",
    "\n",
    "# Memory:\n",
    "memory = replaymemory(memory_size)\n",
    "\n",
    "# Target Network and Policy Network:\n",
    "policy_net = DQN(em.get_screen_height(), em.get_screen_width()).to(device)\n",
    "target_net = DQN(em.get_screen_height(), em.get_screen_width()).to(device)  # target_net =  policy_net\n",
    "# --\n",
    "target_net.load_state_dict(policy_net.state_dict())\n",
    "target_net.eval()\n",
    "# set the optimizer :\n",
    "optimizer = optim.Adam(params = policy_net.parameters(), lr = net_learning_rate)\n",
    "\n",
    "em.close()\n",
    "print('>>> finished ...')"
   ]
  },
  {
   "cell_type": "markdown",
   "id": "criminal-nepal",
   "metadata": {},
   "source": [
    "## 3.3 Training Loop :"
   ]
  },
  {
   "cell_type": "code",
   "execution_count": null,
   "id": "dress-balloon",
   "metadata": {},
   "outputs": [
    {
     "data": {
      "image/png": "[encoded data removed]",
      "text/plain": [
       "<Figure size 432x288 with 1 Axes>"
      ]
     },
     "metadata": {
      "needs_background": "light"
     },
     "output_type": "display_data"
    },
    {
     "name": "stdout",
     "output_type": "stream",
     "text": [
      "Episode 434 \n",
      " 100 episode moving avg: 63.77\n"
     ]
    }
   ],
   "source": [
    "# array to store episode durations during training in order to plot them using the plot():\n",
    "episodes_durations = []\n",
    "#em.get_state()\n",
    "for episode in range(num_episodes): # 4 for each episode\n",
    "    em.reset()\n",
    "    state = em.get_state() # A) initialize the starting state\n",
    "    \n",
    "    for step in count():#range(20): #count(): # B) for each step:\n",
    "        # show the progression:\n",
    "        #print('Episode: ', episode, '| Step: ', step)\n",
    "        \n",
    "        action, decision = agent.decide(policy_net,state) # a. let the agetn select an action based on the exploration rate\n",
    "        #print(action)\n",
    "        reward = em.step(action) # b. execute the agent selected decision.\n",
    "        new_state = em.get_state()   # c. observe reward and next state\n",
    "        experience =  Experience(state, action, reward, new_state)\n",
    "        memory.push(experience) # d. store the experience in the reaplay memory\n",
    "        state = new_state # update for the next upcoming step.\n",
    "        ## Learn from the stored experiences: \n",
    "        if memory.can_provide_sample(batch_size) :\n",
    "            batch =  memory.sample(batch_size)  #  e. Sample random batch from replay memory.\n",
    "            states, actions, rewards, next_states = extract_tensors(batch) # f...\n",
    "            \n",
    "            current_qvalues = QValues.get_current_qvalues(policy_net, states, actions) # g. Pass batch of preprocessed states to POLICY network.\n",
    "            next_qvalues = QValues.get_next_qvalues(target_net,next_states) # g2. Pass batch of preprocessed states to TARGET network.\n",
    "            target_qvalues = rewards + gamma*next_qvalues \n",
    "            \n",
    "            loss = F.mse_loss(current_qvalues, target_qvalues.unsqueeze(1)) # h. the loss between target q-values and output q-values \n",
    "            optimizer.zero_grad() # i. backpropagation process\n",
    "            loss.backward()\n",
    "            optimizer.step()\n",
    "                \n",
    "\n",
    "        #display.clear_output(wait=True)\n",
    "        \n",
    "        if em.done :\n",
    "            episodes_durations.append(step)\n",
    "            plot(episodes_durations,100)\n",
    "            break\n",
    "        \n",
    "        # show the state:\n",
    "        #show_state(episode, step, em)\n",
    "        #update_progress('Episodes: ', episode , num_episodes)\n",
    "        \n",
    "    if episode % target_update == 0 :\n",
    "        target_net.load_state_dict(policy_net.state_dict())\n",
    "        \n",
    "em.close()\n",
    "        \n",
    "print('>>> finished ...')\n",
    "#print(len(memory.memory))"
   ]
  },
  {
   "cell_type": "code",
   "execution_count": 53,
   "id": "higher-compatibility",
   "metadata": {},
   "outputs": [
    {
     "name": "stdout",
     "output_type": "stream",
     "text": [
      "10939\n"
     ]
    },
    {
     "data": {
      "text/plain": [
       "[<matplotlib.lines.Line2D at 0x7feab4ffa1f0>]"
      ]
     },
     "execution_count": 53,
     "metadata": {},
     "output_type": "execute_result"
    },
    {
     "data": {
      "image/png": "[encoded data removed]",
      "text/plain": [
       "<Figure size 432x288 with 1 Axes>"
      ]
     },
     "metadata": {
      "needs_background": "light"
     },
     "output_type": "display_data"
    }
   ],
   "source": [
    "print(agent.current_steps)\n",
    "plt.plot(strategy.history)"
   ]
  },
  {
   "cell_type": "code",
   "execution_count": 23,
   "id": "raising-career",
   "metadata": {},
   "outputs": [
    {
     "data": {
      "image/png": "[encoded data removed]",
      "text/plain": [
       "<Figure size 432x288 with 1 Axes>"
      ]
     },
     "metadata": {
      "needs_background": "light"
     },
     "output_type": "display_data"
    },
    {
     "name": "stdout",
     "output_type": "stream",
     "text": [
      "Episode 1000 \n",
      " 100 episode moving avg: 67.92\n"
     ]
    }
   ],
   "source": [
    "plot(episodes_durations,100)\n"
   ]
  }
 ],
 "metadata": {
  "kernelspec": {
   "display_name": "Python 3",
   "language": "python",
   "name": "python3"
  },
  "language_info": {
   "codemirror_mode": {
    "name": "ipython",
    "version": 3
   },
   "file_extension": ".py",
   "mimetype": "text/x-python",
   "name": "python",
   "nbconvert_exporter": "python",
   "pygments_lexer": "ipython3",
   "version": "3.8.8"
  }
 },
 "nbformat": 4,
 "nbformat_minor": 5
}